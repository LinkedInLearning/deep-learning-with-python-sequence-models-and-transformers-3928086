{
 "cells": [
  {
   "cell_type": "markdown",
   "id": "e55764ae-20f6-403d-b2d1-fd8b80c78c65",
   "metadata": {},
   "source": [
    "<div class=\"alert alert-success\"><h1>Topic Classification with Pretrained Models in Python</h1></div>"
   ]
  },
  {
   "cell_type": "markdown",
   "id": "55e620a2-9784-4a2b-98e9-219fd0130997",
   "metadata": {},
   "source": [
    "In this tutorial, we illustrate **Topic Classification** (also known as topic labeling or content classification) - a technique used to assign predefined topics or categories, such as weather, sports, finance, and more, to a given piece of text. This approach is particularly useful for organizing and filtering large streams of textual data, such as news feeds or social media posts.\n",
    "\n",
    "## Learning Objectives\n",
    "By the end of this tutorial, you will:\n",
    "+ **Build a topic classification pipeline:** Create an end-to-end pipeline that leverages pretrained models for topic labeling.\n",
    "+ **Interpret model outputs:** Analyze and understand the model’s predictions, including the assigned topic labels and their confidence scores.\n",
    "\n",
    "## Prerequisites\n",
    "Before we begin, please ensure that you have:\n",
    "+ A working knowledge of Python, including variables, functions, loops, and basic object-oriented programming.\n",
    "+ Familiarity with deep learning model development in Python using Keras and TensorFlow.\n",
    "+ A Python (version 3.x) environment with the `tensorflow`, `keras`, `ipywidgets`, and `transformers` packages installed."
   ]
  },
  {
   "cell_type": "markdown",
   "id": "da27b102-29c4-43cc-9f48-a0194634b803",
   "metadata": {},
   "source": [
    "Let's also reduce the log verbosity of the `transformers` package. This ensures that we only get error alerts but not informational logs."
   ]
  },
  {
   "cell_type": "code",
   "execution_count": null,
   "id": "373fa291-f12a-4bab-a216-d3a254150050",
   "metadata": {},
   "outputs": [],
   "source": [
    "from transformers import logging\n",
    "logging.set_verbosity_error()"
   ]
  },
  {
   "cell_type": "markdown",
   "id": "d7780d03-a674-4b25-9876-c67e0dfd4589",
   "metadata": {},
   "source": [
    "<hr>"
   ]
  },
  {
   "cell_type": "markdown",
   "id": "8ddd7484-8083-467c-b10a-dd8fe37e16aa",
   "metadata": {},
   "source": [
    "## 1. Instantiate a Pipeline for Topic Classification\n",
    "The first thing we do is import the `pipeline` function from the Hugging Face `transformers` package. Then we instantiate a pipeline object called `topics` while specifying `\"text-classification\"` as the task. \n",
    "\n",
    "Note that Hugging Face does not have a dedicated pipeline name for topic classification. However, we can still use the generic `\"text-classification\"` pipeline for this purpose, but with a <u>model specifically trained for topic classification</u>. \n",
    "\n",
    "Topic classification differs from sentiment analysis in that it assigns one or more topics (rather than a polarity) to a text sample. In this tutorial, we will use the `classla/multilingual-IPTC-news-topic-classifier` model from Hugging Face. This model is specifically designed to classify news articles or short texts into topics based on the **IPTC taxonomy** (see https://www.iptc.org/std/NewsCodes/treeview/mediatopic/mediatopic-en-GB.html). The taxonomy covers a wide range of subjects, including categories like \"economy, business and finance,\" \"sport,\" \"science and technology,\" and \"environment.\""
   ]
  },
  {
   "cell_type": "code",
   "execution_count": null,
   "id": "45ce309b-7e21-44f1-89e8-7989345cc59e",
   "metadata": {},
   "outputs": [],
   "source": [
    "from transformers import pipeline\n",
    "model_name = \"classla/multilingual-IPTC-news-topic-classifier\"\n",
    "topics = pipeline(task = \"text-classification\", model = model_name)"
   ]
  },
  {
   "cell_type": "markdown",
   "id": "cc3a309c-b49a-4ca4-a09a-cbefc4822928",
   "metadata": {},
   "source": [
    "<div class=\"alert alert-info\"><b>Note:</b> For guidance on how to choose the right pretrained model for a specific task from the Hugging Face Model Hub, watch the course video titled <b>\"Choosing the right Model from the Hugging Face Hub\"</b>.</div>"
   ]
  },
  {
   "cell_type": "markdown",
   "id": "6cbcf4ad-43e5-46ea-97fb-2fa27c616e9b",
   "metadata": {},
   "source": [
    "## 2. Run Topic Classification on Sample Text\n",
    "Next, we prepare a set of sample texts that resemble news headlines or short news blurbs. We then pass these texts to the pipeline, which outputs the predicted topic labels along with corresponding confidence scores."
   ]
  },
  {
   "cell_type": "code",
   "execution_count": null,
   "id": "2c144a3d-92e7-448e-a83c-1797c52aafa1",
   "metadata": {},
   "outputs": [],
   "source": [
    "sample_texts = [\n",
    "    \"Government announces new economic stimulus plan to boost small businesses.\",\n",
    "    \"Local football team wins national championship after a thrilling final match.\",\n",
    "    \"Scientists discover potential treatment for a rare genetic disease.\",\n",
    "    \"Tech giant reveals latest smartphone model with advanced AI features.\",\n",
    "    \"Widespread protests erupt over environmental concerns and climate policies.\",\n",
    "]\n",
    "\n",
    "results = topics(sample_texts)\n",
    "for text, result in zip(sample_texts, results):\n",
    "    print(f\"Text: {text}\\nPrediction: {result}\\n\")"
   ]
  },
  {
   "cell_type": "markdown",
   "id": "d5eca6b6-7609-47ff-ac52-71d75b3058c8",
   "metadata": {},
   "source": [
    "The pipeline processes each text and returns a dictionary containing the keys `'label'` and `'score'`. The `'label'` represents the predicted topic (for example, \"economy, business and finance\" or \"sport\"), while the `'score'` indicates the model's confidence in that prediction. These results offer a practical demonstration of how the model interprets various types of news content. The output can be used to automatically categorize incoming text data, which is particularly useful for news aggregation and content filtering applications."
   ]
  }
 ],
 "metadata": {
  "kernelspec": {
   "display_name": "Python 3 (ipykernel)",
   "language": "python",
   "name": "python3"
  },
  "language_info": {
   "codemirror_mode": {
    "name": "ipython",
    "version": 3
   },
   "file_extension": ".py",
   "mimetype": "text/x-python",
   "name": "python",
   "nbconvert_exporter": "python",
   "pygments_lexer": "ipython3",
   "version": "3.12.7"
  }
 },
 "nbformat": 4,
 "nbformat_minor": 5
}
