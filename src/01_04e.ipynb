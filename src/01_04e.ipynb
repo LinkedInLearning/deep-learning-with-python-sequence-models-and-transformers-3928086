{
 "cells": [
  {
   "cell_type": "markdown",
   "id": "edfd6648-9073-4a9d-8fa1-56d0cb356d42",
   "metadata": {},
   "source": [
    "<div class=\"alert alert-success\"><h1>Building a Recurrent Neural Network in Python using Keras</h1></div>"
   ]
  },
  {
   "cell_type": "markdown",
   "id": "97f3929d-49bf-4c24-be28-ce714ae1f540",
   "metadata": {},
   "source": [
    "Recurrent Neural Networks (RNNs) are a class of neural networks designed to work with sequential data by maintaining a memory of previous inputs. They are commonly used in natural language processing (NLP), time series forecasting, and speech recognition. In this tutorial, we will build an RNN using Keras and TensorFlow to classify movie reviews as either positive or negative. This is known as **Sentiment Analysis**. Sentiment analysis is a fundamental NLP task used in various applications, such as customer feedback analysis, social media monitoring, and opinion mining.\n",
    "\n",
    "## Learning Objectives\n",
    "By the end of this tutorial, you will:\n",
    "+ Understand the basics of RNNs and their architecture.\n",
    "+ Learn how to preprocess text data for deep learning models.\n",
    "+ Build a simple RNN using Keras and TensorFlow.\n",
    "+ Train and evaluate the RNN model.\n",
    "\n",
    "## Prerequisites\n",
    "Before we begin, ensure you have:\n",
    "\n",
    "+ Basic knowledge of Python programming (variables, functions, classes).\n",
    "+ Familiarity with fundamental machine learning concepts (datasets, training/testing, overfitting).\n",
    "+ A Python (version 3.x) environment with the `tensorflow` and `keras` packages installed."
   ]
  },
  {
   "cell_type": "markdown",
   "id": "ea37e6a0-532c-4de5-94cb-eb210ac73898",
   "metadata": {},
   "source": [
    "<div class=\"alert alert-info\"><b>Note:</b> For further insights into deep learning and model building with Keras and TensorFlow, consider exploring the LinkedIn Learning course <b>\"Deep Learning with Python: Foundations\"</b>.</div>"
   ]
  },
  {
   "cell_type": "markdown",
   "id": "fa7cd935-6542-4f36-97ff-db4f0a5f18a5",
   "metadata": {},
   "source": [
    "<div class=\"alert alert-success\"><h2>1. Import the Libraries</h2></div>"
   ]
  },
  {
   "cell_type": "markdown",
   "id": "9f2dc24b-f4fa-4714-8b4b-3e6672704b4d",
   "metadata": {},
   "source": [
    "To start, we'll import the necessary libraries that we'll use throughout this tutorial."
   ]
  },
  {
   "cell_type": "code",
   "execution_count": null,
   "id": "487ae912-1912-43e3-b936-60ac76408e01",
   "metadata": {},
   "outputs": [],
   "source": [
    "import numpy as np\n",
    "from tensorflow import keras\n",
    "from tensorflow.keras import layers"
   ]
  },
  {
   "cell_type": "markdown",
   "id": "e46d0a2f-fa95-4d3f-a301-e44316db973e",
   "metadata": {},
   "source": [
    "The libraries we imported are:\n",
    "+ **tensorflow:** An open-source platform for machine learning developed by Google.\n",
    "+ **keras:** A high-level API for building and training deep learning models, integrated within TensorFlow.\n",
    "+ **layers:** A module in Keras containing various types of neural network layers.\n",
    "\n",
    "To ensure reproducibility of my code, so you obtain the same results as my example, I will set a random initialization seed using the `keras.utils.set_random_seed()` function. This will make the weights and biases initialized during the training process deterministic, ensuring consistent results across different runs. However, in practice, setting a seed is not typically necessary."
   ]
  },
  {
   "cell_type": "code",
   "execution_count": null,
   "id": "bbce3c02-5098-4141-86a2-b5ad15ba9176",
   "metadata": {},
   "outputs": [],
   "source": [
    "keras.utils.set_random_seed(1234)"
   ]
  },
  {
   "cell_type": "markdown",
   "id": "b2647b29-f2d3-43c2-ba67-2cc69436054a",
   "metadata": {},
   "source": [
    "<div class=\"alert alert-success\"><h2>2. Load the Data</h2></div>"
   ]
  },
  {
   "cell_type": "markdown",
   "id": "611ab302-b903-4f88-881e-e35534884726",
   "metadata": {},
   "source": [
    "For this tutorial, we will use the **IMDB movie reviews dataset**, a widely used benchmark dataset for sentiment classification. This dataset consists of 50,000 movie reviews labeled as either positive (1) or negative (0). The dataset is split into:\n",
    "\n",
    "+ 25,000 training samples used to teach our model.\n",
    "+ 25,000 test samples used to evaluate how well our model generalizes to unseen data.\n",
    "\n",
    "Each review is preprocessed and represented as a sequence of integer indices corresponding to words in a predefined vocabulary. Our goal is to train an RNN model that can learn the sentiment patterns in the text, evaluate the model’s performance using accuracy metrics, and make predictions on new, unseen movie reviews."
   ]
  },
  {
   "cell_type": "code",
   "execution_count": null,
   "id": "e99f6f1a-3c0d-4f72-9dab-0fda084f7994",
   "metadata": {},
   "outputs": [],
   "source": [
    "max_features = 10000\n",
    "(train_data, train_labels), (test_data, test_labels) = keras.datasets.imdb.load_data(num_words = max_features)"
   ]
  },
  {
   "cell_type": "markdown",
   "id": "7bc64f35-3fc2-477f-ba32-3ecd914e4014",
   "metadata": {},
   "source": [
    "The IMDB dataset contains many unique words, but not all of them are necessary for training a model. Some words occur very infrequently, and including them may introduce noise without adding much predictive power to the model. By setting `max_features = 10000`, we limit our feature set to the 10,000 most frequently occurring words."
   ]
  },
  {
   "cell_type": "markdown",
   "id": "3ba9448c-000b-48d5-8a61-f76fe2835a48",
   "metadata": {},
   "source": [
    "<div class=\"alert alert-success\"><h2>3. Preprocess the Data</h2></div>"
   ]
  },
  {
   "cell_type": "markdown",
   "id": "37bab7b5-b331-46e1-bc26-f8700366329d",
   "metadata": {},
   "source": [
    "Reviews in the IMDB dataset vary in length, with some being very short and others very long. Recurrent Neural Network's require fixed-size inputs, so we standardize the length of each review to 500 words. If a review is longer than 500 words, we truncate it to keep only the first 500 words. However, if a review is shorter than 500 words, we pad it with zeros so that every review is exactly 500 words."
   ]
  },
  {
   "cell_type": "code",
   "execution_count": null,
   "id": "fc46e6ac-3f5e-4098-afbd-cf53ace2056d",
   "metadata": {},
   "outputs": [],
   "source": [
    "from tensorflow.keras.preprocessing.sequence import pad_sequences\n",
    "\n",
    "max_len = 500\n",
    "train_data = pad_sequences(train_data, maxlen = max_len)\n",
    "test_data = pad_sequences(test_data, maxlen = max_len)"
   ]
  },
  {
   "cell_type": "markdown",
   "id": "6d21b161-15d6-47d4-b109-c3fb77a800f8",
   "metadata": {},
   "source": [
    "<div class=\"alert alert-success\"><h2>4. Define the Model Architecture</h2></div>"
   ]
  },
  {
   "cell_type": "markdown",
   "id": "489ed56a-e5ef-40fd-906a-8aeb8d13f750",
   "metadata": {},
   "source": [
    "Next, we define the structure of the model. The first layer is an embedding layer that learns a meaningful representation for each of the input words (or tokens). \n",
    "\n",
    "The next layer accepts the dense numerical representation of the input words (embeddings) and processes them in sequence. This layer and the next have 32 recurrent neurons, which means that 32 values are processed during each time step. Setting `return_sequences = True` in the first layer ensures that the hidden states for all time steps are passed to the next RNN layer. \n",
    "\n",
    "The final layer (dense layer) makes the final prediction (positive or negative sentiment).Since this is a binary classification problem (positive/negative sentiment), a sigmoid function is ideal because it outputs a probability. If the probability is $\\gt$ 0.5, the review is predicted as positive (1). However, if the probability is $\\leq$ 0.5, the review is predicted as negative (0)."
   ]
  },
  {
   "cell_type": "code",
   "execution_count": null,
   "id": "bbc82aa0-0835-4b1d-805b-75dc6648a711",
   "metadata": {},
   "outputs": [],
   "source": [
    "model = keras.Sequential([\n",
    "    layers.Embedding(input_dim = max_features, output_dim = 128),\n",
    "    layers.SimpleRNN(32, return_sequences = True),\n",
    "    layers.SimpleRNN(32),\n",
    "    layers.Dense(1, activation = 'sigmoid')\n",
    "])"
   ]
  },
  {
   "cell_type": "markdown",
   "id": "08081dea-3958-49a6-b837-b60145509e63",
   "metadata": {},
   "source": [
    "Note that this model is a basic RNN-based sentiment classifier. In real-world applications, we can improve performance by using a Long Short-Term Memory Network (LSTM) or Gated Recurrent Unit (GRU), both of which handle long-term dependencies more effectively. We will learn more about these architectures later in the course."
   ]
  },
  {
   "cell_type": "markdown",
   "id": "bdb18b1e-f88b-47ac-927c-dd0f37953df2",
   "metadata": {},
   "source": [
    "<div class=\"alert alert-success\"><h2>5. Compile and Train the Model</h2></div>"
   ]
  },
  {
   "cell_type": "code",
   "execution_count": null,
   "id": "8a4b55ca-550c-4268-ac13-25905d1fc7cf",
   "metadata": {},
   "outputs": [],
   "source": [
    "model.compile(optimizer = 'adam',\n",
    "              loss = 'binary_crossentropy',\n",
    "              metrics = ['accuracy'])"
   ]
  },
  {
   "cell_type": "markdown",
   "id": "e37bb954-0c6f-4ec3-9bec-241d301ffc05",
   "metadata": {},
   "source": [
    "To train the model, we call the `fit()` method and specify the training data, training labels, number of epochs (the number of times the model will iterate over the entire training dataset), batch size (the number of samples processed before the model is updated), and validation split (the fraction of the training data to use for validation)."
   ]
  },
  {
   "cell_type": "code",
   "execution_count": null,
   "id": "95dc22b6-1405-4f0a-b0bd-dfcf9e7ac925",
   "metadata": {},
   "outputs": [],
   "source": [
    "history = model.fit(train_data, train_labels,\n",
    "                    epochs = 10,\n",
    "                    batch_size = 128,\n",
    "                    validation_split = 0.2)"
   ]
  },
  {
   "cell_type": "markdown",
   "id": "5d28c3e7-115b-4ac8-9a73-e5d4cb40636f",
   "metadata": {},
   "source": [
    "<div class=\"alert alert-success\"><h2>6. Evaluate the Model</h2></div>"
   ]
  },
  {
   "cell_type": "markdown",
   "id": "ac02abe7-f6cf-4d16-8d09-6612e5058e29",
   "metadata": {},
   "source": [
    "Using the trained model, we can evaluate how well it performs against the test data. This step provides an objective measurement of our model’s generalization ability - that is, how well it classifies movie reviews it has never seen before."
   ]
  },
  {
   "cell_type": "code",
   "execution_count": null,
   "id": "6d3b730d-3b8a-43a0-b930-20d4db22f56c",
   "metadata": {},
   "outputs": [],
   "source": [
    "test_loss, test_accuracy = model.evaluate(test_data, test_labels)\n",
    "print(f\"Test Accuracy: {test_accuracy:.4f}\")"
   ]
  },
  {
   "cell_type": "markdown",
   "id": "8d124191-c077-4058-a4a6-8d8f5efa4e49",
   "metadata": {},
   "source": [
    "The result shows that the model correctly classified 79.2% of the test movie reviews.\n",
    "\n",
    "Let's take a look at the model's sentiment prediction for the first 5 movie reviews in the test data."
   ]
  },
  {
   "cell_type": "code",
   "execution_count": null,
   "id": "e00a52fb-19a0-467c-bd11-04283290bb35",
   "metadata": {},
   "outputs": [],
   "source": [
    "num_samples = 5\n",
    "selected_indices = np.arange(num_samples)\n",
    "\n",
    "for i, index in enumerate(selected_indices):\n",
    "    sample_review = test_data[index].reshape(1, max_len)\n",
    "    predicted_prob = model.predict(sample_review)[0, 0]\n",
    "    predicted_label = \"Positive\" if predicted_prob > 0.5 else \"Negative\"\n",
    "    print(f\"Movie Review #{i + 1}:\")\n",
    "    print(f\"Predicted Sentiment: {predicted_label} (Score: {predicted_prob:.4f})\")"
   ]
  },
  {
   "cell_type": "markdown",
   "id": "0a025265-e10d-4f0a-9da2-284e34e19be4",
   "metadata": {},
   "source": [
    "The predictions are probability scores that go between 0 and 1. If the score is greater than 0.5, the review is classified as **Positive**. However if the score is 0.5 or less, the review is classified as **Negative**."
   ]
  }
 ],
 "metadata": {
  "kernelspec": {
   "display_name": "Python 3 (ipykernel)",
   "language": "python",
   "name": "python3"
  },
  "language_info": {
   "codemirror_mode": {
    "name": "ipython",
    "version": 3
   },
   "file_extension": ".py",
   "mimetype": "text/x-python",
   "name": "python",
   "nbconvert_exporter": "python",
   "pygments_lexer": "ipython3",
   "version": "3.12.7"
  }
 },
 "nbformat": 4,
 "nbformat_minor": 5
}
