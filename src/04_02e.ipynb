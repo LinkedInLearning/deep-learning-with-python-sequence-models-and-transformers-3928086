{
 "cells": [
  {
   "cell_type": "markdown",
   "id": "e55764ae-20f6-403d-b2d1-fd8b80c78c65",
   "metadata": {},
   "source": [
    "<div class=\"alert alert-success\"><h1>Part-of-Speech Tagging with Pretrained Models in Python</h1></div>"
   ]
  },
  {
   "cell_type": "markdown",
   "id": "55e620a2-9784-4a2b-98e9-219fd0130997",
   "metadata": {},
   "source": [
    "**Part-of-Speech (POS) tagging** is a fundamental NLP task that assigns each token in a sentence its corresponding grammatical category, such as noun, verb, adjective, or adposition. In this tutorial, we walk through the use of Hugging Face pretrained models specifically trained for POS tagging. \n",
    "\n",
    "## Learning Objectives\n",
    "By the end of this tutorial, you will:\n",
    "+ **Set up a token classification pipeline for POS tagging:** Create a pipeline that assigns grammatical tags to each token in a text.\n",
    "+ **Interpret and analyze POS tagging outputs:** Convert and explore the output data using Pandas for further analysis and visualization.\n",
    "\n",
    "## Prerequisites\n",
    "Before we begin, please ensure that you have:\n",
    "+ A working knowledge of Python, including variables, functions, and basic object-oriented programming.\n",
    "+ Familiarity with deep learning model development in Python using Keras and TensorFlow.\n",
    "+ A Python (version 3.x) environment with the `tensorflow`, `keras`, `pandas`, `ipywidgets`, and `transformers` packages installed."
   ]
  },
  {
   "cell_type": "markdown",
   "id": "ef279d2b-c2b5-42dc-b23e-a54596a8c8af",
   "metadata": {},
   "source": [
    "Let's also reduce the log verbosity of the `transformers` package. This ensures that we only get error alerts but not informational logs."
   ]
  },
  {
   "cell_type": "code",
   "execution_count": null,
   "id": "db198f0b-f25b-4fbd-8cef-46fc64d17cb2",
   "metadata": {},
   "outputs": [],
   "source": [
    "from transformers import logging\n",
    "logging.set_verbosity_error()"
   ]
  },
  {
   "cell_type": "markdown",
   "id": "ba92f553-39ef-444a-b66d-a9c70b1a57cc",
   "metadata": {},
   "source": [
    "<hr>"
   ]
  },
  {
   "cell_type": "markdown",
   "id": "05ef9e95-d2be-49be-90a6-7f297e152572",
   "metadata": {},
   "source": [
    "## 1. Instantiate a Pipeline for Part-of-Speech Tagging\n",
    "The first thing we do is import the `pipeline` function from the Hugging Face `transformers` package. Then we instantiate a pipeline object called `tagger` while specifying `\"token-classification\"` as the task. \n",
    "\n",
    "Note that Hugging Face does not have a dedicated pipeline name for POS tagging. However, we can still use the generic `\"token-classification\"` pipeline for this purpose, but with a <u>POS-specific model</u>. For instance, we can use the `vblagoje/bert-english-uncased-finetuned-pos` model, which handles POS tagging in English."
   ]
  },
  {
   "cell_type": "code",
   "execution_count": null,
   "id": "8fffe485-a915-4a74-b9aa-95effcbaa3d5",
   "metadata": {},
   "outputs": [],
   "source": [
    "from transformers import pipeline\n",
    "model_name = \"vblagoje/bert-english-uncased-finetuned-pos\"\n",
    "tagger = pipeline(task = \"token-classification\", model = model_name)"
   ]
  },
  {
   "cell_type": "markdown",
   "id": "61d8dd08-449d-4218-9d9a-bcb4669176c4",
   "metadata": {},
   "source": [
    "<div class=\"alert alert-info\"><b>Note:</b> For guidance on how to choose the right pretrained model for a specific task from the Hugging Face Model Hub, watch the course video titled <b>\"Choosing the right Model from the Hugging Face Hub\"</b>.</div>"
   ]
  },
  {
   "cell_type": "markdown",
   "id": "d7ee3ca2-7f2e-4fe9-abaa-a9bedafda70c",
   "metadata": {},
   "source": [
    "## 2. Run Part-of-Speech Tagging on Sample Text\n",
    "Now, we apply the POS tagging pipeline to a short sample sentence. The model will assign a grammatical tag to each token, which we then convert into a Pandas DataFrame for easy analysis."
   ]
  },
  {
   "cell_type": "code",
   "execution_count": null,
   "id": "cc44f37b-ca7f-4286-825b-9dc338821dec",
   "metadata": {},
   "outputs": [],
   "source": [
    "import pandas as pd\n",
    "sample_text = \"John loves playing football in the park.\"\n",
    "result = tagger(sample_text)\n",
    "tagged_pos = pd.DataFrame(result)\n",
    "display(tagged_pos)"
   ]
  },
  {
   "cell_type": "markdown",
   "id": "d5eca6b6-7609-47ff-ac52-71d75b3058c8",
   "metadata": {},
   "source": [
    "The results show that the model tags *'John'* as a **proper noun**, *'loves'* and *'playing'* as **verbs**, *'football'* and *'park'* as **nouns**, *'in'* as an **adposition** (preposition or postposition), *'the'* as a **determiner**, and *'.'* as **punctuation**."
   ]
  }
 ],
 "metadata": {
  "kernelspec": {
   "display_name": "Python 3 (ipykernel)",
   "language": "python",
   "name": "python3"
  },
  "language_info": {
   "codemirror_mode": {
    "name": "ipython",
    "version": 3
   },
   "file_extension": ".py",
   "mimetype": "text/x-python",
   "name": "python",
   "nbconvert_exporter": "python",
   "pygments_lexer": "ipython3",
   "version": "3.12.7"
  }
 },
 "nbformat": 4,
 "nbformat_minor": 5
}
