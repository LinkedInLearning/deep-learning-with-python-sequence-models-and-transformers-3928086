{
 "cells": [
  {
   "cell_type": "markdown",
   "id": "e55764ae-20f6-403d-b2d1-fd8b80c78c65",
   "metadata": {},
   "source": [
    "<div class=\"alert alert-success\"><h1>Named Entity Recognition with Pretrained Models in Python</h1></div>"
   ]
  },
  {
   "cell_type": "markdown",
   "id": "55e620a2-9784-4a2b-98e9-219fd0130997",
   "metadata": {},
   "source": [
    "**Named Entity Recognition (NER)** is a vital component of natural language processing (NLP) that transforms unstructured text into structured data by identifying and classifying key entities such as persons, locations, and organizations. In this tutorial, we use pre-trained Hugging Face models for NER. \n",
    "\n",
    "## Learning Objectives\n",
    "By the end of this tutorial, you will:\n",
    "+ **Set up a token classification pipeline for NER:** Build an end-to-end pipeline using the Hugging Face API to perform token classification.\n",
    "+ **Interpret model outputs:** Analyze the outputs from the NER pipeline, understanding entity labels, confidence scores, and token positions.\n",
    "\n",
    "\n",
    "## Prerequisites\n",
    "Before we begin, please ensure that you have:\n",
    "+ A working knowledge of Python, including variables, functions, and basic object-oriented programming.\n",
    "+ Familiarity with deep learning model development in Python using Keras and TensorFlow.\n",
    "+ A Python (version 3.x) environment with the `tensorflow`, `keras`, `pandas`, `ipywidgets`, and `transformers` packages installed."
   ]
  },
  {
   "cell_type": "markdown",
   "id": "ab5fc51d-7d5b-44db-a204-8929696cfaae",
   "metadata": {},
   "source": [
    "Let's also reduce the log verbosity of the `transformers` package. This ensures that we only get error alerts but not informational logs."
   ]
  },
  {
   "cell_type": "code",
   "execution_count": null,
   "id": "c18873f2-142d-4544-9922-19099222a054",
   "metadata": {},
   "outputs": [],
   "source": [
    "from transformers import logging\n",
    "logging.set_verbosity_error()"
   ]
  },
  {
   "cell_type": "markdown",
   "id": "3d6e2680-ae31-43a5-b256-79af2a5811dc",
   "metadata": {},
   "source": [
    "<hr>"
   ]
  },
  {
   "cell_type": "markdown",
   "id": "757ae0fe-a408-44d1-ad4b-0c60fccd3656",
   "metadata": {},
   "source": [
    "## 1. Instantiate a Pipeline for Named Entity Recognition\n",
    "The first thing we do is import the `pipeline` function from the Hugging Face `transformers` package. Then we instantiate a pipeline object called `recognizer` while specifying `\"token-classification\"` as the task. Note that NER is the default task for token classification."
   ]
  },
  {
   "cell_type": "code",
   "execution_count": null,
   "id": "21f3679d-b96c-43dc-9ed2-cd70c2b32ec8",
   "metadata": {},
   "outputs": [],
   "source": [
    "from transformers import pipeline\n",
    "recognizer = pipeline(task = \"token-classification\")"
   ]
  },
  {
   "cell_type": "markdown",
   "id": "a2be4839-d7ac-4a10-bf7b-34ce79883354",
   "metadata": {},
   "source": [
    "## 2. Run Named Entity Recognition on Sample Text\n",
    "Next, we pass a short piece of text to our NER pipeline so it can extract the entities."
   ]
  },
  {
   "cell_type": "code",
   "execution_count": null,
   "id": "5fec0c44-10a2-4105-972e-d027f53f19cc",
   "metadata": {},
   "outputs": [],
   "source": [
    "sample_text = \"Barack Obama was born in Hawaii.\"\n",
    "result = recognizer(sample_text)\n",
    "display(result)"
   ]
  },
  {
   "cell_type": "markdown",
   "id": "80884592-b694-413f-af60-274d2c10836c",
   "metadata": {},
   "source": [
    "The output is a list of dictionaries where each dictionary represents a detected entity. Each dictionary includes the `entity_group` (e.g., `I-PER` for person, `I-LOC` for location), the `score` (model's confidence), the text span (`word`), and the character positions (`start` and `end`) of the entity within the input text. In this case, the model correctly identifies **\"Barack\"** and **\"Obama\"** as referring to a person and **\"Hawaii\"** as a location.\n",
    "\n",
    "If we want sub-tokens to be unified into a single entity mention, we can set `aggregation_strategy = \"simple\"` within the pipeline. For instance, this would unify `\"Barack\"` and `\"Obama\"` into `\"Barack Obama\"`."
   ]
  },
  {
   "cell_type": "code",
   "execution_count": null,
   "id": "b66770f8-a3aa-4f30-9b2f-37cd0f92d69e",
   "metadata": {},
   "outputs": [],
   "source": [
    "result = recognizer(sample_text, aggregation_strategy = \"simple\")\n",
    "display(result)"
   ]
  },
  {
   "cell_type": "markdown",
   "id": "6c607a12-b830-4ba1-8c47-64343ae1e833",
   "metadata": {},
   "source": [
    "For improved readability and further analysis, it can also be useful to convert the list of entity dictionaries into a Pandas DataFrame."
   ]
  },
  {
   "cell_type": "code",
   "execution_count": null,
   "id": "c17e8f48-eda6-4f2b-a98e-5f7c7ec90a82",
   "metadata": {},
   "outputs": [],
   "source": [
    "import pandas as pd\n",
    "named_entities = pd.DataFrame(result)\n",
    "display(named_entities)"
   ]
  },
  {
   "cell_type": "markdown",
   "id": "3ff81c88-edbc-4e38-b386-ad28b1579617",
   "metadata": {},
   "source": [
    "By converting the results into a DataFrame, we can quickly inspect and manipulate the data. This is especially useful for applications such as customer feedback analysis, where we may want to track mentions of brands, locations, or individuals over time."
   ]
  },
  {
   "cell_type": "markdown",
   "id": "0a70bc2f-df8c-479f-a8aa-9a97cf8799e1",
   "metadata": {},
   "source": [
    "To further illustrate the capabilities of our NER pipeline, let's apply it to a longer piece of text that resembles customer feedback or a product review. "
   ]
  },
  {
   "cell_type": "code",
   "execution_count": null,
   "id": "4983d8e3-c740-44bd-bebc-deb2ddfe9676",
   "metadata": {},
   "outputs": [],
   "source": [
    "sample_text = \"\"\"\n",
    "I recently purchased the new Apple iPhone 14 from Best Buy in Manhattan. \n",
    "The staff, especially John Smith, was incredibly helpful and explained all the features in detail. \n",
    "I’ve also tried Samsung smartphones in the past, but this iPhone’s battery life and camera are a huge upgrade. \n",
    "I’d definitely recommend it to my friends!\n",
    "\"\"\"\n",
    "result = recognizer(sample_text, aggregation_strategy = \"simple\")\n",
    "named_entities = pd.DataFrame(result)\n",
    "display(named_entities)"
   ]
  },
  {
   "cell_type": "markdown",
   "id": "7654d068-ae34-4724-9c4a-2724213f0752",
   "metadata": {},
   "source": [
    "In this longer text, the NER model identifies multiple entities, including product names (e.g., \"Apple iPhone 14\"), organizations (e.g., \"Best Buy\", \"Samsung\"), locations (e.g., \"Manhattan\"), and person names (e.g., \"John Smith\"). This demonstrates how NER can help you extract structured insights from unstructured text, which is particularly valuable in customer feedback analysis and market research."
   ]
  }
 ],
 "metadata": {
  "kernelspec": {
   "display_name": "Python 3 (ipykernel)",
   "language": "python",
   "name": "python3"
  },
  "language_info": {
   "codemirror_mode": {
    "name": "ipython",
    "version": 3
   },
   "file_extension": ".py",
   "mimetype": "text/x-python",
   "name": "python",
   "nbconvert_exporter": "python",
   "pygments_lexer": "ipython3",
   "version": "3.12.7"
  }
 },
 "nbformat": 4,
 "nbformat_minor": 5
}
